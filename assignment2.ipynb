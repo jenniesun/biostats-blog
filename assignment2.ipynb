{
 "cells": [
  {
   "cell_type": "markdown",
   "metadata": {},
   "source": [
    "## 2. Number theory and a Google recruitment puzzle\n",
    "\n",
    "Find the first 10-digit prime in the decimal expansion of 17π.\n",
    "\n",
    "The first 5 digits in the decimal expansion of π are 14159. The first 4-digit prime in the decimal expansion of π are 4159. You are asked to find the first 10-digit prime in the decimal expansion of 17π. First solve sub-problems (divide and conquer):\n",
    "\n",
    "* Write a function to generate an arbitrary large expansion of a mathematical expression like π. Hint: You can use the standard library `decimal` or the 3rd party library `sympy` to do this\n",
    "\n",
    "* Write a function to check if a number is prime. Hint: See Sieve of Eratosthenes\n",
    "\n",
    "* Write a function to generate sliding windows of a specified width from a long iterable (e.g. a string representation of a number)\n",
    "\n",
    "* Write unit tests for each of these three functions. You are encouraged, but not required, to try test-driven development https://en.wikipedia.org/wiki/Test-driven_development.\n",
    "\n",
    "Now use these helper functions to write the function that you need. Write a unit test for this final function, given that the first 10-digit prime in the expansion e is 7427466391. Finally, solve the given problem.\n",
    "\n"
   ]
  },
  {
   "cell_type": "code",
   "execution_count": 1,
   "metadata": {},
   "outputs": [],
   "source": [
    "from mpmath import mp"
   ]
  },
  {
   "cell_type": "markdown",
   "metadata": {},
   "source": [
    "#### Function below generates an arbitrary large expansion of a mathematical expression like π"
   ]
  },
  {
   "cell_type": "code",
   "execution_count": 2,
   "metadata": {},
   "outputs": [],
   "source": [
    "def deci_expan(n):\n",
    "    \"\"\"Generates a large expansion of a mathematical expression of input number 'n'\"\"\"\n",
    "    \n",
    "    # set number of digits\n",
    "    mp.dps = 200\n",
    "    # generate a string of decimal expansion of input number\n",
    "    decimal_expansion = str(n % 1)[2:] \n",
    "    return decimal_expansion"
   ]
  },
  {
   "cell_type": "code",
   "execution_count": 3,
   "metadata": {},
   "outputs": [
    {
     "data": {
      "text/plain": [
       "'14159265358979323846264338327950288419716939937510582097494459230781640628620899862803482534211706798214808651328230664709384460955058223172535940812848111745028410270193852110555964462294895493038196'"
      ]
     },
     "execution_count": 3,
     "metadata": {},
     "output_type": "execute_result"
    }
   ],
   "source": [
    "deci_expan(mp.pi)"
   ]
  },
  {
   "cell_type": "markdown",
   "metadata": {},
   "source": [
    "#### Function below checks if a number is prime"
   ]
  },
  {
   "cell_type": "code",
   "execution_count": 4,
   "metadata": {},
   "outputs": [],
   "source": [
    "import math"
   ]
  },
  {
   "cell_type": "code",
   "execution_count": 5,
   "metadata": {},
   "outputs": [],
   "source": [
    "def isPrime(n):\n",
    "    \"\"\"Return 'True' if 'n' is a prime number\". False otherwise.\"\"\"\n",
    "    \n",
    "    # check off edge cases\n",
    "    if n <= 1:\n",
    "        return False # 0, 1 and negative numbers are not prime\n",
    "    if n == 2:\n",
    "        return True # 2 is prime\n",
    "    \n",
    "    if n > 2 and n % 2 == 0:\n",
    "        return False # all even numbers > 2 are not prime \n",
    "    \n",
    "    max_divisor = math.floor(math.sqrt(n))\n",
    "    for i in range(3, max_divisor + 1, 2): # skip every even number\n",
    "        if n % i == 0:\n",
    "            return False\n",
    "    return True"
   ]
  },
  {
   "cell_type": "markdown",
   "metadata": {},
   "source": [
    "#### Function below generates sliding windows of a specified width from a long iterable (e.g. a string representation of a number)"
   ]
  },
  {
   "cell_type": "code",
   "execution_count": 6,
   "metadata": {},
   "outputs": [],
   "source": [
    "def sliding_windows(s, width):\n",
    "    \"\"\"Returns a window of string representations 's' specified by 'width'\"\"\"\n",
    "    \n",
    "    result_lst = []\n",
    "    for p in range(len(s) + 1):    \n",
    "        while (p + width) <= len(s): # keep iterating as long as the window length < input string length\n",
    "            result = s[p:p+width]\n",
    "            result_lst.append(result)\n",
    "            break\n",
    "    return result_lst"
   ]
  },
  {
   "cell_type": "markdown",
   "metadata": {},
   "source": [
    "#### Below are the unit tests for each of the three functions above"
   ]
  },
  {
   "cell_type": "code",
   "execution_count": 7,
   "metadata": {},
   "outputs": [
    {
     "name": "stdout",
     "output_type": "stream",
     "text": [
      "Everything passed\n"
     ]
    }
   ],
   "source": [
    "def test_deci_expan():\n",
    "    \"\"\"Tests if the function deci_expan generates the decimal expansion of input number\"\"\"\n",
    "    \n",
    "    assert deci_expan(mp.pi) == '14159265358979323846264338327950288419716939937510582097494459230781640628620899862803482534211706798214808651328230664709384460955058223172535940812848111745028410270193852110555964462294895493038196'\n",
    "    assert deci_expan(mp.e) == '71828182845904523536028747135266249775724709369995957496696762772407663035354759457138217852516642742746639193200305992181741359662904357290033429526059563073813232862794349076323382988075319525101901'\n",
    "\n",
    "if __name__ == \"__main__\":\n",
    "    test_deci_expan()\n",
    "    print(\"Everything passed\")"
   ]
  },
  {
   "cell_type": "code",
   "execution_count": 8,
   "metadata": {},
   "outputs": [
    {
     "name": "stdout",
     "output_type": "stream",
     "text": [
      "Everything passed\n"
     ]
    }
   ],
   "source": [
    "def test_isPrime():\n",
    "    \"\"\"Tests if the function isPrime checks if an input integer is a prime number\"\"\"\n",
    "    \n",
    "    assert isPrime(23) is True, \"Should be Ture\"\n",
    "    assert isPrime(2) is True, \"Should be True\"\n",
    "    assert isPrime(0) is False, \"Should be False\"\n",
    "    assert isPrime(1) is False, \"Should be False\"\n",
    "    assert isPrime(-5) is False, \"Should be False\"\n",
    "    \n",
    "if __name__ == \"__main__\":\n",
    "    test_isPrime()\n",
    "    print(\"Everything passed\")"
   ]
  },
  {
   "cell_type": "code",
   "execution_count": 9,
   "metadata": {},
   "outputs": [
    {
     "name": "stdout",
     "output_type": "stream",
     "text": [
      "Everything passed\n"
     ]
    }
   ],
   "source": [
    "def test_sliding_windows():\n",
    "    \"\"\"Tests if the function sliding_windows returns the expected list of strings of number sequence\"\"\"\n",
    "\n",
    "    assert sliding_windows('1234567890', 8) == ['12345678', '23456789', '34567890'], \"Should be ['12345678', '23456789', '34567890']\"\n",
    "    assert sliding_windows('65876', 3) != ['658', '658', '658'], \"Should be ['658', '587', '876']\"\n",
    "\n",
    "if __name__ == \"__main__\":\n",
    "    test_sliding_windows()\n",
    "    print(\"Everything passed\")"
   ]
  },
  {
   "cell_type": "markdown",
   "metadata": {},
   "source": [
    "#### Below is the final function combining the 3 helper functions above. "
   ]
  },
  {
   "cell_type": "code",
   "execution_count": 10,
   "metadata": {},
   "outputs": [],
   "source": [
    "def prime_exp(num, digit):\n",
    "    \"\"\"Returns the first n-digit (specified by 'digit') prime in the decimal expansion of input interger (specified by 'num').\"\"\"\n",
    "    \n",
    "    decimal_expansion = deci_expan(num)\n",
    "    strings = sliding_windows(decimal_expansion, digit)\n",
    "\n",
    "    for string in strings:\n",
    "        if isPrime(int(string)):\n",
    "            break\n",
    "\n",
    "    return string"
   ]
  },
  {
   "cell_type": "markdown",
   "metadata": {},
   "source": [
    "#### Unit test for the final function"
   ]
  },
  {
   "cell_type": "code",
   "execution_count": 11,
   "metadata": {},
   "outputs": [
    {
     "name": "stdout",
     "output_type": "stream",
     "text": [
      "Everything passed\n"
     ]
    }
   ],
   "source": [
    "def test_prime_exp():\n",
    "    \"\"\"Tests if the function sliding_windows returns the expected list of strings of number sequence\"\"\"\n",
    "\n",
    "    assert prime_exp(mp.pi, 4) == '4159', \"Should be '4159'\"\n",
    "    assert prime_exp(mp.e, 10) == '7427466391', \"Should be '7427466391'\"\n",
    "    \n",
    "if __name__ == \"__main__\":\n",
    "    test_prime_exp()\n",
    "    print(\"Everything passed\")"
   ]
  },
  {
   "cell_type": "markdown",
   "metadata": {},
   "source": [
    "#### Check if the first 10-digit prime in the expansion e is 7427466391"
   ]
  },
  {
   "cell_type": "code",
   "execution_count": 12,
   "metadata": {},
   "outputs": [
    {
     "data": {
      "text/plain": [
       "'7427466391'"
      ]
     },
     "execution_count": 12,
     "metadata": {},
     "output_type": "execute_result"
    }
   ],
   "source": [
    "prime_exp(mp.e, 10)"
   ]
  },
  {
   "cell_type": "markdown",
   "metadata": {},
   "source": [
    "#### Finally, solve the given problem - Find the first 10-digit prime in the decimal expansion of 17π."
   ]
  },
  {
   "cell_type": "code",
   "execution_count": 13,
   "metadata": {},
   "outputs": [
    {
     "data": {
      "text/plain": [
       "'8649375157'"
      ]
     },
     "execution_count": 13,
     "metadata": {},
     "output_type": "execute_result"
    }
   ],
   "source": [
    "prime_exp(17 * mp.pi, 10)"
   ]
  }
 ],
 "metadata": {
  "kernelspec": {
   "display_name": "Python 3",
   "language": "python",
   "name": "python3"
  },
  "language_info": {
   "codemirror_mode": {
    "name": "ipython",
    "version": 3
   },
   "file_extension": ".py",
   "mimetype": "text/x-python",
   "name": "python",
   "nbconvert_exporter": "python",
   "pygments_lexer": "ipython3",
   "version": "3.7.8"
  }
 },
 "nbformat": 4,
 "nbformat_minor": 4
}
