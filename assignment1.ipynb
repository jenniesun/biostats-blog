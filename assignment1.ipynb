{
 "cells": [
  {
   "cell_type": "markdown",
   "id": "external-citizenship",
   "metadata": {},
   "source": [
    "## Math is Fun\n",
    ">Solve 3 problems from the Euler Project using Python. \n",
    "Of the 3 problems, one must have been solved by fewer than 25,000 people, 1 fewer than 100,000 people and one fewer than 500,000 people. If you want to challenge yourself, choose all 3 problems from the category solved by fewer than 25,000 people. Write a function for each problem, and use numpy-style docstrings to annotate each function. Write a blog describing your solutions and how you approached each problem."
   ]
  },
  {
   "cell_type": "markdown",
   "id": "streaming-pollution",
   "metadata": {},
   "source": [
    "#### Problem 4 - Largest palindrome product (Solved by fewer than 500,000 people)\n",
    "\n",
    ">A palindromic number reads the same both ways. The largest palindrome made from the product of two 2-digit numbers is 9009 = 91 × 99.\n",
    ">Find the largest palindrome made from the product of two 3-digit numbers."
   ]
  },
  {
   "cell_type": "code",
   "execution_count": 1,
   "id": "average-identity",
   "metadata": {},
   "outputs": [],
   "source": [
    "def largest_palin(n):\n",
    "        \n",
    "    \"\"\"\n",
    "    Takes in one integer n (number of digits), returns the largest palindrome made from the product of two n-digit numbers.\n",
    "    \"\"\"\n",
    "    \n",
    "    lst = []\n",
    "    # loop through the specified range n for the first number\n",
    "    for i in range(0, n):  \n",
    "        # loop through the specified range n for the second number\n",
    "        for j in range(0, n):  \n",
    "            # check if the two numbers make a palindromic pair\n",
    "            if str(i * j) == str(i*j)[::-1]: \n",
    "                # append all palindromic numbers to a list\n",
    "                lst.append(i*j) \n",
    "    # find the largest palindrome in the list\n",
    "    return max(lst) "
   ]
  },
  {
   "cell_type": "code",
   "execution_count": 2,
   "id": "signal-acceptance",
   "metadata": {},
   "outputs": [
    {
     "data": {
      "text/plain": [
       "906609"
      ]
     },
     "execution_count": 2,
     "metadata": {},
     "output_type": "execute_result"
    }
   ],
   "source": [
    "largest_palin(1000)"
   ]
  },
  {
   "cell_type": "markdown",
   "id": "exterior-million",
   "metadata": {},
   "source": [
    "#### Problem 34 - Digit factorials (Solved by fewer than 100,000 people)\n",
    "\n",
    ">145 is a curious number, as 1! + 4! + 5! = 1 + 24 + 120 = 145.\n",
    "Find the sum of all numbers which are equal to the sum of the factorial of their digits.\n",
    "Note: As 1! = 1 and 2! = 2 are not sums they are not included."
   ]
  },
  {
   "cell_type": "code",
   "execution_count": 3,
   "id": "european-blues",
   "metadata": {},
   "outputs": [],
   "source": [
    "import math"
   ]
  },
  {
   "cell_type": "code",
   "execution_count": 4,
   "id": "perceived-interaction",
   "metadata": {},
   "outputs": [],
   "source": [
    "def find_fac_sum(n):\n",
    "    \n",
    "    \"\"\"\n",
    "    Takes in one integer n (upper limit of the iterations), returns the sum of all numbers which are equal to the sum of the factorial of their digits.\n",
    "    \"\"\"\n",
    "\n",
    "    total_sum = 0\n",
    "    factorials = {}\n",
    "    \n",
    "    for i in range(10):\n",
    "        factorials[str(i)] = math.factorial(i) # precalculate factorials\n",
    "    \n",
    "    for num in range(3, n):\n",
    "        fac_sum = 0\n",
    "        for j in str(num):\n",
    "            fac_sum += factorials[j]\n",
    "        if fac_sum == num:\n",
    "            total_sum += fac_sum\n",
    "    return total_sum"
   ]
  },
  {
   "cell_type": "code",
   "execution_count": 5,
   "id": "unknown-adoption",
   "metadata": {},
   "outputs": [
    {
     "data": {
      "text/plain": [
       "40730"
      ]
     },
     "execution_count": 5,
     "metadata": {},
     "output_type": "execute_result"
    }
   ],
   "source": [
    "find_fac_sum(50000)"
   ]
  },
  {
   "cell_type": "markdown",
   "id": "traditional-convert",
   "metadata": {},
   "source": [
    "#### Problem 145 - How many reversible numbers are there below one-billion? (Solved by fewer than 25,000 people)\n",
    "\n",
    ">Some positive integers n have the property that the sum [ n + reverse(n) ] consists entirely of odd (decimal) digits. For instance, 36 + 63 = 99 and 409 + 904 = 1313. We will call such numbers reversible; so 36, 63, 409, and 904 are reversible. Leading zeroes are not allowed in either n or reverse(n).\n",
    "\n",
    ">There are 120 reversible numbers below one-thousand.\n",
    ">How many reversible numbers are there below one-billion (109)?"
   ]
  },
  {
   "cell_type": "code",
   "execution_count": 6,
   "id": "patent-spokesman",
   "metadata": {},
   "outputs": [],
   "source": [
    "def sum_reversible(n):\n",
    "    \n",
    "    \"\"\"\n",
    "    Takes in one integer n (upper limit of the iterations), returns the number of reversible numbers below the upper limit.\n",
    "    \"\"\"\n",
    "    \n",
    "    count = 0\n",
    "    for i in range(1, n):\n",
    "        if str(i)[-1] != '0':\n",
    "            sum_ = i + int(str(i)[::-1])\n",
    "            split = [int(b) for b in str(sum_)]\n",
    "        \n",
    "            if (all(split[idx] % 2 == 1 for idx in range(len(split)))): \n",
    "                count += 1\n",
    "    return count"
   ]
  },
  {
   "cell_type": "code",
   "execution_count": 7,
   "id": "later-freeze",
   "metadata": {},
   "outputs": [
    {
     "data": {
      "text/plain": [
       "68720"
      ]
     },
     "execution_count": 7,
     "metadata": {},
     "output_type": "execute_result"
    }
   ],
   "source": [
    "sum_reversible(1_000_000_000)"
   ]
  }
 ],
 "metadata": {
  "kernelspec": {
   "display_name": "Python 3",
   "language": "python",
   "name": "python3"
  },
  "language_info": {
   "codemirror_mode": {
    "name": "ipython",
    "version": 3
   },
   "file_extension": ".py",
   "mimetype": "text/x-python",
   "name": "python",
   "nbconvert_exporter": "python",
   "pygments_lexer": "ipython3",
   "version": "3.8.5"
  }
 },
 "nbformat": 4,
 "nbformat_minor": 5
}
